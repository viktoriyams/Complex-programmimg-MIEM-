{
 "cells": [
  {
   "cell_type": "markdown",
   "metadata": {},
   "source": [
    "## Solve a quadratic equation, $x^2 + b x + c = 0$."
   ]
  },
  {
   "cell_type": "code",
   "execution_count": 1,
   "metadata": {},
   "outputs": [],
   "source": [
    "import cmath as cmt\n",
    "import math as mt"
   ]
  },
  {
   "cell_type": "code",
   "execution_count": 2,
   "metadata": {},
   "outputs": [],
   "source": [
    "def solve_quad(b, c):\n",
    "    D = float(b**2 - 4*c)\n",
    "    if D>0 and b>=100:\n",
    "        arg=float(-4*c/b**2)\n",
    "        return(float((-b - D**0.5)/2), float((b/2)*sqrtfl(arg)))\n",
    "    elif D>0 and b>0 and b<100:\n",
    "        return(float((-b - D**0.5)/2), float((-b + D**0.5)/2))\n",
    "    elif D>0 and b<0:\n",
    "        arg=float(4*c/b**2)\n",
    "        return(float((-b + D**0.5)/2), float(-(b/2)*sqrtfl(arg)))\n",
    "    elif D==0:\n",
    "        return(complex((-b - complex(D)**0.5)/2), complex((-b - complex(D)**0.5)/2))\n",
    "    elif D<0:\n",
    "        return(complex((-b + cmt.sqrt(D))/2), complex((-b - cmt.sqrt(D))/2))\n",
    "\n",
    "def sqrtfl(x):\n",
    "    steps = 100\n",
    "    summ = float(0) \n",
    "    k = float(0.5)\n",
    "    arg = float(x)\n",
    "    j = 1\n",
    "    for j in range(steps):\n",
    "        summ=summ+k*arg\n",
    "        k=k*(0.5-j)/(j+1)\n",
    "        arg=x*arg\n",
    "    return summ"
   ]
  },
  {
   "cell_type": "markdown",
   "metadata": {},
   "source": [
    "Test the function"
   ]
  },
  {
   "cell_type": "code",
   "execution_count": 3,
   "metadata": {},
   "outputs": [],
   "source": [
    "from numpy import allclose"
   ]
  },
  {
   "cell_type": "code",
   "execution_count": 4,
   "metadata": {},
   "outputs": [],
   "source": [
    "variants = [{'b': 4.0, 'c': 3.0},\n",
    "            {'b': 2.0, 'c': 1.0},\n",
    "            {'b': 0.5, 'c': 4.0},\n",
    "            {'b': 1e10, 'c': 3.0},\n",
    "            {'b': -1e10, 'c': 4.0},]"
   ]
  },
  {
   "cell_type": "code",
   "execution_count": 5,
   "metadata": {},
   "outputs": [
    {
     "name": "stdout",
     "output_type": "stream",
     "text": [
      "True\n",
      "True\n",
      "True\n",
      "True\n",
      "True\n"
     ]
    }
   ],
   "source": [
    "for var in variants:\n",
    "    x1, x2 = solve_quad(**var)\n",
    "    print(allclose(x1*x2, var['c']))"
   ]
  },
  {
   "cell_type": "markdown",
   "metadata": {},
   "source": [
    "You will need to list solutions for last test's parameters (`{'b': -1e10, 'c': 4.0}`) in order to put them in respective field in Google Form for this lesson."
   ]
  },
  {
   "cell_type": "code",
   "execution_count": 6,
   "metadata": {},
   "outputs": [
    {
     "name": "stdout",
     "output_type": "stream",
     "text": [
      "(10000000000.0, 3.9999999999999996e-10)\n"
     ]
    }
   ],
   "source": [
    "print(solve_quad(-1e10,4.0))"
   ]
  }
 ],
 "metadata": {
  "kernelspec": {
   "display_name": "Python 3",
   "language": "python",
   "name": "python3"
  },
  "language_info": {
   "codemirror_mode": {
    "name": "ipython",
    "version": 3
   },
   "file_extension": ".py",
   "mimetype": "text/x-python",
   "name": "python",
   "nbconvert_exporter": "python",
   "pygments_lexer": "ipython3",
   "version": "3.6.5"
  }
 },
 "nbformat": 4,
 "nbformat_minor": 2
}
